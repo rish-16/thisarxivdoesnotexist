{
 "cells": [
  {
   "cell_type": "code",
   "execution_count": null,
   "id": "7a79c921-9608-4392-b86f-d77c7070988d",
   "metadata": {},
   "outputs": [],
   "source": [
    "import pandas as pd\n",
    "import numpy as np\n",
    "import json\n",
    "from simpletransformers.t5 import T5Model"
   ]
  },
  {
   "cell_type": "code",
   "execution_count": null,
   "id": "72a6bc8e-a30e-4863-b2f4-8183d76cdf2c",
   "metadata": {},
   "outputs": [],
   "source": [
    "PATH = \"../arxiv-metadata-oai-snapshot.json\"\n",
    "N = 20"
   ]
  },
  {
   "cell_type": "code",
   "execution_count": null,
   "id": "611a74f5-8d90-4633-906e-97c79ee0d513",
   "metadata": {},
   "outputs": [],
   "source": [
    "def get_metadata():\n",
    "    with open(PATH, 'r') as f:\n",
    "        for line in f:\n",
    "            yield line\n",
    "            \n",
    "metadata = get_metadata()\n",
    "for paper in metadata:\n",
    "    paper_dict = json.loads(paper)\n",
    "    break"
   ]
  },
  {
   "cell_type": "code",
   "execution_count": null,
   "id": "aeb44029-2f37-4f41-ba27-8f4b03f3145c",
   "metadata": {},
   "outputs": [],
   "source": [
    "titles = []\n",
    "ids = []\n",
    "abstracts = []\n",
    "authors_parsed = []\n",
    "authors = []\n",
    "years = []\n",
    "metadata = get_metadata()\n",
    "\n",
    "for paper in metadata:\n",
    "    paper_dict = json.loads(paper)\n",
    "    ref = paper_dict.get('journal-ref')\n",
    "    try:\n",
    "        year = int(ref[-4:]) \n",
    "        if 1992 < year < 2002:\n",
    "            years.append(year)\n",
    "            ids.append(paper_dict.get('id'))\n",
    "            authors_parsed.append(paper_dict.get('authors_parsed'))\n",
    "            authors.append(paper_dict.get('authors'))\n",
    "            titles.append(paper_dict.get('title'))\n",
    "            abstracts.append(paper_dict.get('abstract'))\n",
    "    except:\n",
    "        pass \n",
    "\n",
    "len(titles), len(abstracts), len(years)    "
   ]
  },
  {
   "cell_type": "code",
   "execution_count": null,
   "id": "0d9ae7e1-08c5-4b86-9ded-3cca8ca04d88",
   "metadata": {},
   "outputs": [],
   "source": [
    "papers = pd.DataFrame({\n",
    "    'id' : ids,\n",
    "    'title': titles,\n",
    "    'authors': authors,\n",
    "    'authors parsed': authors_parsed,\n",
    "    'abstract': abstracts,\n",
    "    'year': years\n",
    "})\n",
    "\n",
    "print(papers.head())"
   ]
  },
  {
   "cell_type": "code",
   "execution_count": null,
   "id": "9fac1d64-d26f-4eb3-984c-bd17f702f46a",
   "metadata": {},
   "outputs": [],
   "source": [
    "papers.to_csv('nlp.csv')"
   ]
  },
  {
   "cell_type": "code",
   "execution_count": null,
   "id": "9a43a312-ccc6-4f7d-9831-b7c6ec223f50",
   "metadata": {},
   "outputs": [],
   "source": [
    "papers = papers[['title','abstract']]\n",
    "papers.columns = ['target_text', 'input_text']\n",
    "papers = papers.dropna()\n",
    "\n",
    "eval_df = papers.sample(frac=0.2, random_state=101)\n",
    "train_df = papers.drop(eval_df.index)\n",
    "\n",
    "# print (train_df.shape, eval_df.shape)\n",
    "\n",
    "train_df['prefix'] = \"summarize\"\n",
    "eval_df['prefix'] = \"summarize\""
   ]
  },
  {
   "cell_type": "code",
   "execution_count": null,
   "id": "2ce665c2-ce67-4865-90e8-f577becbc3bd",
   "metadata": {},
   "outputs": [],
   "source": [
    "model_args = {\n",
    "    \"reprocess_input_data\": True,\n",
    "    \"overwrite_output_dir\": True,\n",
    "    \"max_seq_length\": 512,\n",
    "    \"train_batch_size\": 16,\n",
    "    \"num_train_epochs\": 4,\n",
    "}\n",
    "\n",
    "# Create T5 Model\n",
    "model = T5Model(model_type=\"t5\", model_name=\"t5-base\", args=model_args, use_cuda=True)"
   ]
  },
  {
   "cell_type": "code",
   "execution_count": null,
   "id": "172a453c-3bbe-442e-b657-5a3b4b93726b",
   "metadata": {},
   "outputs": [],
   "source": [
    "model.train_model(train_df)\n",
    "\n",
    "# Evaluate T5 Model on new task\n",
    "results = model.eval_model(eval_df)\n",
    "print (results)"
   ]
  },
  {
   "cell_type": "code",
   "execution_count": null,
   "id": "b4526533-6a57-497f-92a5-d642adfd2cb1",
   "metadata": {},
   "outputs": [],
   "source": [
    "random_num = 350\n",
    "actual_title = eval_df.iloc[random_num]['target_text']\n",
    "actual_abstract = [\"summarize: \"+eval_df.iloc[random_num]['input_text']]\n",
    "predicted_title = model.predict(actual_abstract)\n",
    "\n",
    "print(f'Actual Title: {actual_title}')\n",
    "print(f'Predicted Title: {predicted_title}')\n",
    "print(f'Actual Abstract: {actual_abstract}')"
   ]
  }
 ],
 "metadata": {
  "kernelspec": {
   "display_name": "Python 3",
   "language": "python",
   "name": "python3"
  },
  "language_info": {
   "codemirror_mode": {
    "name": "ipython",
    "version": 3
   },
   "file_extension": ".py",
   "mimetype": "text/x-python",
   "name": "python",
   "nbconvert_exporter": "python",
   "pygments_lexer": "ipython3",
   "version": "3.8.13"
  }
 },
 "nbformat": 4,
 "nbformat_minor": 5
}
